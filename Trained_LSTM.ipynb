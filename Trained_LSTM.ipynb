{
  "nbformat": 4,
  "nbformat_minor": 0,
  "metadata": {
    "colab": {
      "name": "Trained_LSTM.ipynb",
      "provenance": [],
      "authorship_tag": "ABX9TyNT7cwR7hEH/oLnuNTzSx1y",
      "include_colab_link": true
    },
    "kernelspec": {
      "name": "python3",
      "display_name": "Python 3"
    },
    "language_info": {
      "name": "python"
    }
  },
  "cells": [
    {
      "cell_type": "markdown",
      "metadata": {
        "id": "view-in-github",
        "colab_type": "text"
      },
      "source": [
        "<a href=\"https://colab.research.google.com/github/Light-Yagami14/ML_Project/blob/main/Trained_LSTM.ipynb\" target=\"_parent\"><img src=\"https://colab.research.google.com/assets/colab-badge.svg\" alt=\"Open In Colab\"/></a>"
      ]
    },
    {
      "cell_type": "code",
      "metadata": {
        "id": "ExAY20F2wFPz"
      },
      "source": [
        "import numpy as np\n",
        "import matplotlib.pyplot as plt\n",
        "import pandas as pd"
      ],
      "execution_count": null,
      "outputs": []
    },
    {
      "cell_type": "code",
      "metadata": {
        "id": "fhtOgO5uwRf1"
      },
      "source": [
        "dataset_train = pd.read_csv('NSE-TATAGLOBAL.csv')\n",
        "training_set = dataset_train.iloc[:2050, 1:2].values\n",
        "test_set = dataset_train.iloc[2050:, 1:2].values"
      ],
      "execution_count": null,
      "outputs": []
    },
    {
      "cell_type": "code",
      "metadata": {
        "colab": {
          "base_uri": "https://localhost:8080/",
          "height": 204
        },
        "id": "_Uwn5lkOxjQy",
        "outputId": "573e53f2-7ff8-4036-f65d-573debd1651a"
      },
      "source": [
        "dataset_train.head()"
      ],
      "execution_count": null,
      "outputs": [
        {
          "output_type": "execute_result",
          "data": {
            "text/html": [
              "<div>\n",
              "<style scoped>\n",
              "    .dataframe tbody tr th:only-of-type {\n",
              "        vertical-align: middle;\n",
              "    }\n",
              "\n",
              "    .dataframe tbody tr th {\n",
              "        vertical-align: top;\n",
              "    }\n",
              "\n",
              "    .dataframe thead th {\n",
              "        text-align: right;\n",
              "    }\n",
              "</style>\n",
              "<table border=\"1\" class=\"dataframe\">\n",
              "  <thead>\n",
              "    <tr style=\"text-align: right;\">\n",
              "      <th></th>\n",
              "      <th>Date</th>\n",
              "      <th>Open</th>\n",
              "      <th>High</th>\n",
              "      <th>Low</th>\n",
              "      <th>Last</th>\n",
              "      <th>Close</th>\n",
              "      <th>Total Trade Quantity</th>\n",
              "      <th>Turnover (Lacs)</th>\n",
              "    </tr>\n",
              "  </thead>\n",
              "  <tbody>\n",
              "    <tr>\n",
              "      <th>0</th>\n",
              "      <td>2019-01-04</td>\n",
              "      <td>210.60</td>\n",
              "      <td>214.90</td>\n",
              "      <td>210.00</td>\n",
              "      <td>213.50</td>\n",
              "      <td>213.80</td>\n",
              "      <td>1213181.0</td>\n",
              "      <td>2583.05</td>\n",
              "    </tr>\n",
              "    <tr>\n",
              "      <th>1</th>\n",
              "      <td>2019-01-03</td>\n",
              "      <td>214.95</td>\n",
              "      <td>215.35</td>\n",
              "      <td>209.90</td>\n",
              "      <td>210.55</td>\n",
              "      <td>210.05</td>\n",
              "      <td>2096553.0</td>\n",
              "      <td>4433.50</td>\n",
              "    </tr>\n",
              "    <tr>\n",
              "      <th>2</th>\n",
              "      <td>2019-01-02</td>\n",
              "      <td>219.00</td>\n",
              "      <td>220.35</td>\n",
              "      <td>213.60</td>\n",
              "      <td>214.20</td>\n",
              "      <td>214.60</td>\n",
              "      <td>1081778.0</td>\n",
              "      <td>2340.31</td>\n",
              "    </tr>\n",
              "    <tr>\n",
              "      <th>3</th>\n",
              "      <td>2019-01-01</td>\n",
              "      <td>219.95</td>\n",
              "      <td>221.05</td>\n",
              "      <td>218.05</td>\n",
              "      <td>218.95</td>\n",
              "      <td>219.10</td>\n",
              "      <td>716275.0</td>\n",
              "      <td>1571.63</td>\n",
              "    </tr>\n",
              "    <tr>\n",
              "      <th>4</th>\n",
              "      <td>2018-12-31</td>\n",
              "      <td>222.00</td>\n",
              "      <td>223.65</td>\n",
              "      <td>218.85</td>\n",
              "      <td>219.55</td>\n",
              "      <td>219.40</td>\n",
              "      <td>965858.0</td>\n",
              "      <td>2131.09</td>\n",
              "    </tr>\n",
              "  </tbody>\n",
              "</table>\n",
              "</div>"
            ],
            "text/plain": [
              "         Date    Open    High  ...   Close  Total Trade Quantity  Turnover (Lacs)\n",
              "0  2019-01-04  210.60  214.90  ...  213.80             1213181.0          2583.05\n",
              "1  2019-01-03  214.95  215.35  ...  210.05             2096553.0          4433.50\n",
              "2  2019-01-02  219.00  220.35  ...  214.60             1081778.0          2340.31\n",
              "3  2019-01-01  219.95  221.05  ...  219.10              716275.0          1571.63\n",
              "4  2018-12-31  222.00  223.65  ...  219.40              965858.0          2131.09\n",
              "\n",
              "[5 rows x 8 columns]"
            ]
          },
          "metadata": {},
          "execution_count": 11
        }
      ]
    },
    {
      "cell_type": "code",
      "metadata": {
        "id": "bOHsIoQYxrJ1"
      },
      "source": [
        "from sklearn.preprocessing import MinMaxScaler\n",
        "sc = MinMaxScaler(feature_range = (0, 1))\n",
        "training_set_scaled = sc.fit_transform(training_set)"
      ],
      "execution_count": null,
      "outputs": []
    },
    {
      "cell_type": "code",
      "metadata": {
        "id": "RPPTd7u-xxsV"
      },
      "source": [
        "X_train = []\n",
        "y_train = []\n",
        "for i in range(60, 2035):\n",
        "    X_train.append(training_set_scaled[i-60:i, 0])\n",
        "    y_train.append(training_set_scaled[i, 0])\n",
        "X_train, y_train = np.array(X_train), np.array(y_train)\n",
        "\n",
        "X_train = np.reshape(X_train, (X_train.shape[0], X_train.shape[1], 1))"
      ],
      "execution_count": null,
      "outputs": []
    },
    {
      "cell_type": "code",
      "metadata": {
        "id": "blndToB1x18-"
      },
      "source": [
        "\n",
        "from keras.models import Sequential\n",
        "from keras.layers import Dense\n",
        "from keras.layers import LSTM\n",
        "from keras.layers import Dropout"
      ],
      "execution_count": null,
      "outputs": []
    },
    {
      "cell_type": "code",
      "metadata": {
        "id": "A39JKze3x7Fy"
      },
      "source": [
        "regressor = Sequential()\n",
        "\n",
        "regressor.add(LSTM(units = 50, return_sequences = True, input_shape = (X_train.shape[1], 1)))\n",
        "regressor.add(Dropout(0.2))\n",
        "\n",
        "regressor.add(LSTM(units = 50, return_sequences = True))\n",
        "regressor.add(Dropout(0.2))\n",
        "\n",
        "regressor.add(LSTM(units = 50, return_sequences = True))\n",
        "regressor.add(Dropout(0.2))\n",
        "\n",
        "regressor.add(LSTM(units = 50))\n",
        "regressor.add(Dropout(0.2))\n",
        "\n",
        "regressor.add(Dense(units = 1))"
      ],
      "execution_count": null,
      "outputs": []
    },
    {
      "cell_type": "code",
      "metadata": {
        "colab": {
          "base_uri": "https://localhost:8080/"
        },
        "id": "S90RhDnSyFKy",
        "outputId": "942ad3f6-65e4-4288-8b21-e764b163ffc5"
      },
      "source": [
        "regressor.compile(optimizer = 'adam', loss = 'mean_squared_error')\n",
        "regressor.fit(X_train, y_train, epochs = 100, batch_size = 32)"
      ],
      "execution_count": null,
      "outputs": [
        {
          "output_type": "stream",
          "name": "stdout",
          "text": [
            "Epoch 1/100\n",
            "62/62 [==============================] - 14s 129ms/step - loss: 0.0138\n",
            "Epoch 2/100\n",
            "62/62 [==============================] - 8s 126ms/step - loss: 0.0036\n",
            "Epoch 3/100\n",
            "62/62 [==============================] - 8s 130ms/step - loss: 0.0033\n",
            "Epoch 4/100\n",
            "62/62 [==============================] - 8s 128ms/step - loss: 0.0031\n",
            "Epoch 5/100\n",
            "62/62 [==============================] - 8s 129ms/step - loss: 0.0027\n",
            "Epoch 6/100\n",
            "62/62 [==============================] - 8s 130ms/step - loss: 0.0027\n",
            "Epoch 7/100\n",
            "62/62 [==============================] - 8s 126ms/step - loss: 0.0023\n",
            "Epoch 8/100\n",
            "62/62 [==============================] - 8s 130ms/step - loss: 0.0023\n",
            "Epoch 9/100\n",
            "62/62 [==============================] - 8s 129ms/step - loss: 0.0024\n",
            "Epoch 10/100\n",
            "62/62 [==============================] - 8s 130ms/step - loss: 0.0023\n",
            "Epoch 11/100\n",
            "62/62 [==============================] - 8s 129ms/step - loss: 0.0021\n",
            "Epoch 12/100\n",
            "62/62 [==============================] - 8s 128ms/step - loss: 0.0022\n",
            "Epoch 13/100\n",
            "62/62 [==============================] - 8s 128ms/step - loss: 0.0019\n",
            "Epoch 14/100\n",
            "62/62 [==============================] - 8s 127ms/step - loss: 0.0020\n",
            "Epoch 15/100\n",
            "62/62 [==============================] - 8s 127ms/step - loss: 0.0018\n",
            "Epoch 16/100\n",
            "62/62 [==============================] - 8s 129ms/step - loss: 0.0017\n",
            "Epoch 17/100\n",
            "62/62 [==============================] - 8s 128ms/step - loss: 0.0019\n",
            "Epoch 18/100\n",
            "62/62 [==============================] - 8s 130ms/step - loss: 0.0015\n",
            "Epoch 19/100\n",
            "62/62 [==============================] - 8s 127ms/step - loss: 0.0015\n",
            "Epoch 20/100\n",
            "62/62 [==============================] - 8s 128ms/step - loss: 0.0016\n",
            "Epoch 21/100\n",
            "62/62 [==============================] - 8s 127ms/step - loss: 0.0016\n",
            "Epoch 22/100\n",
            "62/62 [==============================] - 8s 128ms/step - loss: 0.0016\n",
            "Epoch 23/100\n",
            "62/62 [==============================] - 8s 127ms/step - loss: 0.0014\n",
            "Epoch 24/100\n",
            "62/62 [==============================] - 8s 129ms/step - loss: 0.0016\n",
            "Epoch 25/100\n",
            "62/62 [==============================] - 8s 129ms/step - loss: 0.0014\n",
            "Epoch 26/100\n",
            "62/62 [==============================] - 8s 129ms/step - loss: 0.0015\n",
            "Epoch 27/100\n",
            "62/62 [==============================] - 8s 131ms/step - loss: 0.0015\n",
            "Epoch 28/100\n",
            "62/62 [==============================] - 8s 127ms/step - loss: 0.0015\n",
            "Epoch 29/100\n",
            "62/62 [==============================] - 8s 130ms/step - loss: 0.0014\n",
            "Epoch 30/100\n",
            "62/62 [==============================] - 8s 127ms/step - loss: 0.0013\n",
            "Epoch 31/100\n",
            "62/62 [==============================] - 8s 125ms/step - loss: 0.0012\n",
            "Epoch 32/100\n",
            "62/62 [==============================] - 8s 128ms/step - loss: 0.0011\n",
            "Epoch 33/100\n",
            "62/62 [==============================] - 8s 128ms/step - loss: 0.0013\n",
            "Epoch 34/100\n",
            "62/62 [==============================] - 8s 126ms/step - loss: 0.0012\n",
            "Epoch 35/100\n",
            "62/62 [==============================] - 8s 129ms/step - loss: 0.0012\n",
            "Epoch 36/100\n",
            "62/62 [==============================] - 8s 127ms/step - loss: 0.0012\n",
            "Epoch 37/100\n",
            "62/62 [==============================] - 8s 128ms/step - loss: 0.0012\n",
            "Epoch 38/100\n",
            "62/62 [==============================] - 8s 127ms/step - loss: 0.0011\n",
            "Epoch 39/100\n",
            "62/62 [==============================] - 8s 129ms/step - loss: 9.8191e-04\n",
            "Epoch 40/100\n",
            "62/62 [==============================] - 8s 130ms/step - loss: 0.0010\n",
            "Epoch 41/100\n",
            "62/62 [==============================] - 8s 128ms/step - loss: 0.0012\n",
            "Epoch 42/100\n",
            "62/62 [==============================] - 8s 126ms/step - loss: 0.0011\n",
            "Epoch 43/100\n",
            "62/62 [==============================] - 8s 128ms/step - loss: 0.0011\n",
            "Epoch 44/100\n",
            "62/62 [==============================] - 8s 129ms/step - loss: 0.0011\n",
            "Epoch 45/100\n",
            "62/62 [==============================] - 8s 126ms/step - loss: 9.1063e-04\n",
            "Epoch 46/100\n",
            "62/62 [==============================] - 8s 130ms/step - loss: 8.9620e-04\n",
            "Epoch 47/100\n",
            "62/62 [==============================] - 8s 127ms/step - loss: 7.9311e-04\n",
            "Epoch 48/100\n",
            "62/62 [==============================] - 8s 127ms/step - loss: 0.0011\n",
            "Epoch 49/100\n",
            "62/62 [==============================] - 8s 128ms/step - loss: 9.1537e-04\n",
            "Epoch 50/100\n",
            "62/62 [==============================] - 8s 127ms/step - loss: 8.4303e-04\n",
            "Epoch 51/100\n",
            "62/62 [==============================] - 8s 129ms/step - loss: 9.8149e-04\n",
            "Epoch 52/100\n",
            "62/62 [==============================] - 8s 128ms/step - loss: 0.0010\n",
            "Epoch 53/100\n",
            "62/62 [==============================] - 8s 127ms/step - loss: 7.6917e-04\n",
            "Epoch 54/100\n",
            "62/62 [==============================] - 8s 130ms/step - loss: 8.8343e-04\n",
            "Epoch 55/100\n",
            "62/62 [==============================] - 8s 130ms/step - loss: 8.0768e-04\n",
            "Epoch 56/100\n",
            "62/62 [==============================] - 8s 128ms/step - loss: 8.2356e-04\n",
            "Epoch 57/100\n",
            "62/62 [==============================] - 8s 127ms/step - loss: 9.0721e-04\n",
            "Epoch 58/100\n",
            "62/62 [==============================] - 8s 132ms/step - loss: 0.0010\n",
            "Epoch 59/100\n",
            "62/62 [==============================] - 8s 129ms/step - loss: 7.8565e-04\n",
            "Epoch 60/100\n",
            "62/62 [==============================] - 8s 132ms/step - loss: 8.0049e-04\n",
            "Epoch 61/100\n",
            "62/62 [==============================] - 8s 131ms/step - loss: 8.1531e-04\n",
            "Epoch 62/100\n",
            "62/62 [==============================] - 8s 132ms/step - loss: 8.0595e-04\n",
            "Epoch 63/100\n",
            "62/62 [==============================] - 8s 129ms/step - loss: 7.8456e-04\n",
            "Epoch 64/100\n",
            "62/62 [==============================] - 8s 128ms/step - loss: 8.5215e-04\n",
            "Epoch 65/100\n",
            "62/62 [==============================] - 8s 130ms/step - loss: 9.2329e-04\n",
            "Epoch 66/100\n",
            "62/62 [==============================] - 8s 130ms/step - loss: 9.1724e-04\n",
            "Epoch 67/100\n",
            "62/62 [==============================] - 8s 131ms/step - loss: 7.7000e-04\n",
            "Epoch 68/100\n",
            "62/62 [==============================] - 8s 129ms/step - loss: 9.1409e-04\n",
            "Epoch 69/100\n",
            "62/62 [==============================] - 8s 129ms/step - loss: 7.8538e-04\n",
            "Epoch 70/100\n",
            "62/62 [==============================] - 8s 131ms/step - loss: 8.3692e-04\n",
            "Epoch 71/100\n",
            "62/62 [==============================] - 8s 129ms/step - loss: 8.9745e-04\n",
            "Epoch 72/100\n",
            "62/62 [==============================] - 8s 128ms/step - loss: 8.3397e-04\n",
            "Epoch 73/100\n",
            "62/62 [==============================] - 8s 129ms/step - loss: 7.3219e-04\n",
            "Epoch 74/100\n",
            "62/62 [==============================] - 8s 129ms/step - loss: 7.4456e-04\n",
            "Epoch 75/100\n",
            "62/62 [==============================] - 8s 129ms/step - loss: 8.6094e-04\n",
            "Epoch 76/100\n",
            "62/62 [==============================] - 8s 129ms/step - loss: 7.3863e-04\n",
            "Epoch 77/100\n",
            "62/62 [==============================] - 8s 128ms/step - loss: 6.6874e-04\n",
            "Epoch 78/100\n",
            "62/62 [==============================] - 8s 129ms/step - loss: 8.3363e-04\n",
            "Epoch 79/100\n",
            "62/62 [==============================] - 8s 130ms/step - loss: 8.5964e-04\n",
            "Epoch 80/100\n",
            "62/62 [==============================] - 8s 129ms/step - loss: 7.8471e-04\n",
            "Epoch 81/100\n",
            "62/62 [==============================] - 8s 130ms/step - loss: 8.3021e-04\n",
            "Epoch 82/100\n",
            "62/62 [==============================] - 8s 131ms/step - loss: 7.5905e-04\n",
            "Epoch 83/100\n",
            "62/62 [==============================] - 8s 130ms/step - loss: 8.3274e-04\n",
            "Epoch 84/100\n",
            "62/62 [==============================] - 8s 129ms/step - loss: 7.4952e-04\n",
            "Epoch 85/100\n",
            "62/62 [==============================] - 8s 129ms/step - loss: 7.9542e-04\n",
            "Epoch 86/100\n",
            "62/62 [==============================] - 8s 132ms/step - loss: 7.0263e-04\n",
            "Epoch 87/100\n",
            "62/62 [==============================] - 8s 130ms/step - loss: 7.8516e-04\n",
            "Epoch 88/100\n",
            "62/62 [==============================] - 8s 131ms/step - loss: 7.1769e-04\n",
            "Epoch 89/100\n",
            "62/62 [==============================] - 8s 130ms/step - loss: 7.6728e-04\n",
            "Epoch 90/100\n",
            "62/62 [==============================] - 8s 130ms/step - loss: 7.0024e-04\n",
            "Epoch 91/100\n",
            "62/62 [==============================] - 8s 130ms/step - loss: 6.7757e-04\n",
            "Epoch 92/100\n",
            "62/62 [==============================] - 8s 133ms/step - loss: 8.1643e-04\n",
            "Epoch 93/100\n",
            "62/62 [==============================] - 8s 123ms/step - loss: 7.0714e-04\n",
            "Epoch 94/100\n",
            "62/62 [==============================] - 8s 130ms/step - loss: 6.9792e-04\n",
            "Epoch 95/100\n",
            "62/62 [==============================] - 8s 131ms/step - loss: 6.9513e-04\n",
            "Epoch 96/100\n",
            "62/62 [==============================] - 8s 131ms/step - loss: 6.5882e-04\n",
            "Epoch 97/100\n",
            "62/62 [==============================] - 8s 128ms/step - loss: 6.7559e-04\n",
            "Epoch 98/100\n",
            "62/62 [==============================] - 8s 131ms/step - loss: 7.2766e-04\n",
            "Epoch 99/100\n",
            "62/62 [==============================] - 8s 132ms/step - loss: 6.8192e-04\n",
            "Epoch 100/100\n",
            "62/62 [==============================] - 8s 129ms/step - loss: 5.7608e-04\n"
          ]
        },
        {
          "output_type": "execute_result",
          "data": {
            "text/plain": [
              "<keras.callbacks.History at 0x7fbfe7e927d0>"
            ]
          },
          "metadata": {},
          "execution_count": 16
        }
      ]
    },
    {
      "cell_type": "code",
      "metadata": {
        "colab": {
          "base_uri": "https://localhost:8080/",
          "height": 419
        },
        "id": "hFrvqoVb9qBb",
        "outputId": "7ac70276-6a52-4a16-e0c0-6d0ec59f11a6"
      },
      "source": [
        "dataset_train.iloc[:2050, 1:2]"
      ],
      "execution_count": null,
      "outputs": [
        {
          "output_type": "execute_result",
          "data": {
            "text/html": [
              "<div>\n",
              "<style scoped>\n",
              "    .dataframe tbody tr th:only-of-type {\n",
              "        vertical-align: middle;\n",
              "    }\n",
              "\n",
              "    .dataframe tbody tr th {\n",
              "        vertical-align: top;\n",
              "    }\n",
              "\n",
              "    .dataframe thead th {\n",
              "        text-align: right;\n",
              "    }\n",
              "</style>\n",
              "<table border=\"1\" class=\"dataframe\">\n",
              "  <thead>\n",
              "    <tr style=\"text-align: right;\">\n",
              "      <th></th>\n",
              "      <th>Open</th>\n",
              "    </tr>\n",
              "  </thead>\n",
              "  <tbody>\n",
              "    <tr>\n",
              "      <th>0</th>\n",
              "      <td>210.60</td>\n",
              "    </tr>\n",
              "    <tr>\n",
              "      <th>1</th>\n",
              "      <td>214.95</td>\n",
              "    </tr>\n",
              "    <tr>\n",
              "      <th>2</th>\n",
              "      <td>219.00</td>\n",
              "    </tr>\n",
              "    <tr>\n",
              "      <th>3</th>\n",
              "      <td>219.95</td>\n",
              "    </tr>\n",
              "    <tr>\n",
              "      <th>4</th>\n",
              "      <td>222.00</td>\n",
              "    </tr>\n",
              "    <tr>\n",
              "      <th>...</th>\n",
              "      <td>...</td>\n",
              "    </tr>\n",
              "    <tr>\n",
              "      <th>2045</th>\n",
              "      <td>128.00</td>\n",
              "    </tr>\n",
              "    <tr>\n",
              "      <th>2046</th>\n",
              "      <td>125.00</td>\n",
              "    </tr>\n",
              "    <tr>\n",
              "      <th>2047</th>\n",
              "      <td>124.40</td>\n",
              "    </tr>\n",
              "    <tr>\n",
              "      <th>2048</th>\n",
              "      <td>121.30</td>\n",
              "    </tr>\n",
              "    <tr>\n",
              "      <th>2049</th>\n",
              "      <td>122.30</td>\n",
              "    </tr>\n",
              "  </tbody>\n",
              "</table>\n",
              "<p>2050 rows × 1 columns</p>\n",
              "</div>"
            ],
            "text/plain": [
              "        Open\n",
              "0     210.60\n",
              "1     214.95\n",
              "2     219.00\n",
              "3     219.95\n",
              "4     222.00\n",
              "...      ...\n",
              "2045  128.00\n",
              "2046  125.00\n",
              "2047  124.40\n",
              "2048  121.30\n",
              "2049  122.30\n",
              "\n",
              "[2050 rows x 1 columns]"
            ]
          },
          "metadata": {},
          "execution_count": 36
        }
      ]
    },
    {
      "cell_type": "code",
      "metadata": {
        "colab": {
          "base_uri": "https://localhost:8080/",
          "height": 285
        },
        "id": "tCaDxkrV7h5I",
        "outputId": "5b5ec42d-aa08-4295-fb72-18e39480a3c0"
      },
      "source": [
        "dataset_total = pd.concat((dataset_train.iloc[:2050, 1:2],dataset_train.iloc[2050:, 1:2]), axis = 0)\n",
        "inputs = dataset_total[len(dataset_total) - len(test_set) - 60:].values\n",
        "inputs = inputs.reshape(-1,1)\n",
        "inputs = sc.transform(inputs)\n",
        "X_test = []\n",
        "for i in range(60, 76):\n",
        "    X_test.append(inputs[i-60:i, 0])\n",
        "X_test = np.array(X_test)\n",
        "X_test = np.reshape(X_test, (X_test.shape[0], X_test.shape[1], 1))\n",
        "predicted_stock_price = regressor.predict(X_test)\n",
        "predicted_stock_price = sc.inverse_transform(predicted_stock_price)"
      ],
      "execution_count": null,
      "outputs": [
        {
          "output_type": "stream",
          "name": "stderr",
          "text": [
            "/usr/local/lib/python3.7/dist-packages/ipykernel_launcher.py:8: VisibleDeprecationWarning: Creating an ndarray from ragged nested sequences (which is a list-or-tuple of lists-or-tuples-or ndarrays with different lengths or shapes) is deprecated. If you meant to do this, you must specify 'dtype=object' when creating the ndarray\n",
            "  \n"
          ]
        },
        {
          "output_type": "error",
          "ename": "IndexError",
          "evalue": "ignored",
          "traceback": [
            "\u001b[0;31m---------------------------------------------------------------------------\u001b[0m",
            "\u001b[0;31mIndexError\u001b[0m                                Traceback (most recent call last)",
            "\u001b[0;32m<ipython-input-42-a7e7aacef765>\u001b[0m in \u001b[0;36m<module>\u001b[0;34m()\u001b[0m\n\u001b[1;32m      7\u001b[0m     \u001b[0mX_test\u001b[0m\u001b[0;34m.\u001b[0m\u001b[0mappend\u001b[0m\u001b[0;34m(\u001b[0m\u001b[0minputs\u001b[0m\u001b[0;34m[\u001b[0m\u001b[0mi\u001b[0m\u001b[0;34m-\u001b[0m\u001b[0;36m60\u001b[0m\u001b[0;34m:\u001b[0m\u001b[0mi\u001b[0m\u001b[0;34m,\u001b[0m \u001b[0;36m0\u001b[0m\u001b[0;34m]\u001b[0m\u001b[0;34m)\u001b[0m\u001b[0;34m\u001b[0m\u001b[0;34m\u001b[0m\u001b[0m\n\u001b[1;32m      8\u001b[0m \u001b[0mX_test\u001b[0m \u001b[0;34m=\u001b[0m \u001b[0mnp\u001b[0m\u001b[0;34m.\u001b[0m\u001b[0marray\u001b[0m\u001b[0;34m(\u001b[0m\u001b[0mX_test\u001b[0m\u001b[0;34m)\u001b[0m\u001b[0;34m\u001b[0m\u001b[0;34m\u001b[0m\u001b[0m\n\u001b[0;32m----> 9\u001b[0;31m \u001b[0mX_test\u001b[0m \u001b[0;34m=\u001b[0m \u001b[0mnp\u001b[0m\u001b[0;34m.\u001b[0m\u001b[0mreshape\u001b[0m\u001b[0;34m(\u001b[0m\u001b[0mX_test\u001b[0m\u001b[0;34m,\u001b[0m \u001b[0;34m(\u001b[0m\u001b[0mX_test\u001b[0m\u001b[0;34m.\u001b[0m\u001b[0mshape\u001b[0m\u001b[0;34m[\u001b[0m\u001b[0;36m0\u001b[0m\u001b[0;34m]\u001b[0m\u001b[0;34m,\u001b[0m \u001b[0mX_test\u001b[0m\u001b[0;34m.\u001b[0m\u001b[0mshape\u001b[0m\u001b[0;34m[\u001b[0m\u001b[0;36m1\u001b[0m\u001b[0;34m]\u001b[0m\u001b[0;34m,\u001b[0m \u001b[0;36m1\u001b[0m\u001b[0;34m)\u001b[0m\u001b[0;34m)\u001b[0m\u001b[0;34m\u001b[0m\u001b[0;34m\u001b[0m\u001b[0m\n\u001b[0m\u001b[1;32m     10\u001b[0m \u001b[0mpredicted_stock_price\u001b[0m \u001b[0;34m=\u001b[0m \u001b[0mregressor\u001b[0m\u001b[0;34m.\u001b[0m\u001b[0mpredict\u001b[0m\u001b[0;34m(\u001b[0m\u001b[0mX_test\u001b[0m\u001b[0;34m)\u001b[0m\u001b[0;34m\u001b[0m\u001b[0;34m\u001b[0m\u001b[0m\n\u001b[1;32m     11\u001b[0m \u001b[0mpredicted_stock_price\u001b[0m \u001b[0;34m=\u001b[0m \u001b[0msc\u001b[0m\u001b[0;34m.\u001b[0m\u001b[0minverse_transform\u001b[0m\u001b[0;34m(\u001b[0m\u001b[0mpredicted_stock_price\u001b[0m\u001b[0;34m)\u001b[0m\u001b[0;34m\u001b[0m\u001b[0;34m\u001b[0m\u001b[0m\n",
            "\u001b[0;31mIndexError\u001b[0m: tuple index out of range"
          ]
        }
      ]
    },
    {
      "cell_type": "code",
      "metadata": {
        "colab": {
          "base_uri": "https://localhost:8080/",
          "height": 295
        },
        "id": "Jw2XqDU6_Xtw",
        "outputId": "949fa6d1-25d6-4548-9690-21d3d86daf16"
      },
      "source": [
        "plt.plot(test_set, color = 'black', label = 'TATA Stock Price')\n",
        "plt.plot(predicted_stock_price, color = 'green', label = 'Predicted TATA Stock Price')\n",
        "plt.title('TATA Stock Price Prediction')\n",
        "plt.xlabel('Time')\n",
        "plt.ylabel('TATA Stock Price')\n",
        "plt.legend()\n",
        "plt.show()"
      ],
      "execution_count": null,
      "outputs": [
        {
          "output_type": "display_data",
          "data": {
            "image/png": "[encoded data removed]",
            "text/plain": [
              "<Figure size 432x288 with 1 Axes>"
            ]
          },
          "metadata": {
            "needs_background": "light"
          }
        }
      ]
    }
  ]
}